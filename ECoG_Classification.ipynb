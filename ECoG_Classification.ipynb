{
  "nbformat": 4,
  "nbformat_minor": 0,
  "metadata": {
    "colab": {
      "provenance": [],
      "authorship_tag": "ABX9TyOwuwZpgzcHJXfnnladdaiS"
    },
    "kernelspec": {
      "name": "python3",
      "display_name": "Python 3"
    },
    "language_info": {
      "name": "python"
    }
  },
  "cells": [
    {
      "cell_type": "code",
      "execution_count": null,
      "metadata": {
        "colab": {
          "base_uri": "https://localhost:8080/"
        },
        "id": "69Z4ARzfizrT",
        "outputId": "8c24c8f6-2556-4d48-e6ff-2c5e9cbaac96"
      },
      "outputs": [
        {
          "output_type": "stream",
          "name": "stdout",
          "text": [
            "Looking in indexes: https://pypi.org/simple, https://us-python.pkg.dev/colab-wheels/public/simple/\n",
            "Collecting mne\n",
            "  Downloading mne-1.1.1-py3-none-any.whl (7.5 MB)\n",
            "\u001b[K     |████████████████████████████████| 7.5 MB 6.7 MB/s \n",
            "\u001b[?25hRequirement already satisfied: pooch>=1.5 in /usr/local/lib/python3.7/dist-packages (from mne) (1.6.0)\n",
            "Requirement already satisfied: decorator in /usr/local/lib/python3.7/dist-packages (from mne) (4.4.2)\n",
            "Requirement already satisfied: jinja2 in /usr/local/lib/python3.7/dist-packages (from mne) (2.11.3)\n",
            "Requirement already satisfied: scipy>=1.1.0 in /usr/local/lib/python3.7/dist-packages (from mne) (1.7.3)\n",
            "Requirement already satisfied: numpy>=1.15.4 in /usr/local/lib/python3.7/dist-packages (from mne) (1.21.6)\n",
            "Requirement already satisfied: tqdm in /usr/local/lib/python3.7/dist-packages (from mne) (4.64.1)\n",
            "Requirement already satisfied: packaging in /usr/local/lib/python3.7/dist-packages (from mne) (21.3)\n",
            "Requirement already satisfied: matplotlib in /usr/local/lib/python3.7/dist-packages (from mne) (3.2.2)\n",
            "Requirement already satisfied: appdirs>=1.3.0 in /usr/local/lib/python3.7/dist-packages (from pooch>=1.5->mne) (1.4.4)\n",
            "Requirement already satisfied: requests>=2.19.0 in /usr/local/lib/python3.7/dist-packages (from pooch>=1.5->mne) (2.23.0)\n",
            "Requirement already satisfied: pyparsing!=3.0.5,>=2.0.2 in /usr/local/lib/python3.7/dist-packages (from packaging->mne) (3.0.9)\n",
            "Requirement already satisfied: certifi>=2017.4.17 in /usr/local/lib/python3.7/dist-packages (from requests>=2.19.0->pooch>=1.5->mne) (2022.9.24)\n",
            "Requirement already satisfied: urllib3!=1.25.0,!=1.25.1,<1.26,>=1.21.1 in /usr/local/lib/python3.7/dist-packages (from requests>=2.19.0->pooch>=1.5->mne) (1.24.3)\n",
            "Requirement already satisfied: chardet<4,>=3.0.2 in /usr/local/lib/python3.7/dist-packages (from requests>=2.19.0->pooch>=1.5->mne) (3.0.4)\n",
            "Requirement already satisfied: idna<3,>=2.5 in /usr/local/lib/python3.7/dist-packages (from requests>=2.19.0->pooch>=1.5->mne) (2.10)\n",
            "Requirement already satisfied: MarkupSafe>=0.23 in /usr/local/lib/python3.7/dist-packages (from jinja2->mne) (2.0.1)\n",
            "Requirement already satisfied: python-dateutil>=2.1 in /usr/local/lib/python3.7/dist-packages (from matplotlib->mne) (2.8.2)\n",
            "Requirement already satisfied: kiwisolver>=1.0.1 in /usr/local/lib/python3.7/dist-packages (from matplotlib->mne) (1.4.4)\n",
            "Requirement already satisfied: cycler>=0.10 in /usr/local/lib/python3.7/dist-packages (from matplotlib->mne) (0.11.0)\n",
            "Requirement already satisfied: typing-extensions in /usr/local/lib/python3.7/dist-packages (from kiwisolver>=1.0.1->matplotlib->mne) (4.1.1)\n",
            "Requirement already satisfied: six>=1.5 in /usr/local/lib/python3.7/dist-packages (from python-dateutil>=2.1->matplotlib->mne) (1.15.0)\n",
            "Installing collected packages: mne\n",
            "Successfully installed mne-1.1.1\n",
            "Looking in indexes: https://pypi.org/simple, https://us-python.pkg.dev/colab-wheels/public/simple/\n",
            "Collecting pyriemann\n",
            "  Downloading pyriemann-0.3.tar.gz (365 kB)\n",
            "\u001b[K     |████████████████████████████████| 365 kB 32.2 MB/s \n",
            "\u001b[?25hRequirement already satisfied: numpy in /usr/local/lib/python3.7/dist-packages (from pyriemann) (1.21.6)\n",
            "Requirement already satisfied: scipy in /usr/local/lib/python3.7/dist-packages (from pyriemann) (1.7.3)\n",
            "Requirement already satisfied: scikit-learn in /usr/local/lib/python3.7/dist-packages (from pyriemann) (1.0.2)\n",
            "Requirement already satisfied: joblib in /usr/local/lib/python3.7/dist-packages (from pyriemann) (1.2.0)\n",
            "Requirement already satisfied: pandas in /usr/local/lib/python3.7/dist-packages (from pyriemann) (1.3.5)\n",
            "Requirement already satisfied: python-dateutil>=2.7.3 in /usr/local/lib/python3.7/dist-packages (from pandas->pyriemann) (2.8.2)\n",
            "Requirement already satisfied: pytz>=2017.3 in /usr/local/lib/python3.7/dist-packages (from pandas->pyriemann) (2022.4)\n",
            "Requirement already satisfied: six>=1.5 in /usr/local/lib/python3.7/dist-packages (from python-dateutil>=2.7.3->pandas->pyriemann) (1.15.0)\n",
            "Requirement already satisfied: threadpoolctl>=2.0.0 in /usr/local/lib/python3.7/dist-packages (from scikit-learn->pyriemann) (3.1.0)\n",
            "Building wheels for collected packages: pyriemann\n",
            "  Building wheel for pyriemann (setup.py) ... \u001b[?25l\u001b[?25hdone\n",
            "  Created wheel for pyriemann: filename=pyriemann-0.3-py2.py3-none-any.whl size=78033 sha256=faf653b99726585e5ad2a79cfee4eb32fd993d35ff9ee3df8adb58192e9ade72\n",
            "  Stored in directory: /root/.cache/pip/wheels/0b/1b/bf/a537f9e17e6c3490004ede419c72f863af1d0d765d25e532ef\n",
            "Successfully built pyriemann\n",
            "Installing collected packages: pyriemann\n",
            "Successfully installed pyriemann-0.3\n"
          ]
        }
      ],
      "source": [
        "! pip install mne\n",
        "! pip install pyriemann"
      ]
    },
    {
      "cell_type": "code",
      "source": [
        "from scipy.io import loadmat\n",
        "import numpy as np\n",
        "import mne\n",
        "import glob\n",
        "\n",
        "google_path = '/content/drive/My Drive/Online/'\n",
        "\n",
        "from google.colab import drive\n",
        "drive.mount('/content/drive') \n",
        "\n",
        "data = loadmat(\"drive/My Drive/BR4IN.IO/ECoG_Handpose.mat\", struct_as_record=True)\n",
        "\n",
        "data_ = data[\"y\"]\n",
        "data_ecog = data_[1:60, :]\n",
        "nchannels, nsamples = data_ecog.shape\n",
        "label = data_[61, :]\n",
        "sample_time = data_[1, :]\n",
        "\n",
        "# Create MNE Structure\n",
        "# Create Info\n",
        "n_channels = 59\n",
        "sfreq = 1200  # in Hertz\n",
        "info = mne.create_info(n_channels, sfreq=sfreq, ch_types=\"ecog\")\n",
        "\n",
        "raw = mne.io.RawArray(data_ecog, info)\n",
        "# raw.plot()\n",
        "# raw.plot_psd(spatial_colors=True)\n",
        "\n",
        "\n",
        "# Create Events, Exclude Relax\n",
        "events = []\n",
        "for i in np.arange(1, len(label)):\n",
        "    if label[i-1] != label[i] and label[i] != 0:\n",
        "        events.append((i, 0, int(label[i])))\n",
        "\n",
        "events = np.array(events)\n",
        "\n",
        "event_id = {\n",
        "'Fist': 1,\n",
        "'Peace': 2,\n",
        "'Open': 3,\n",
        "}\n",
        "\n",
        "# raw.plot(events=events, event_id=event_id)"
      ],
      "metadata": {
        "colab": {
          "base_uri": "https://localhost:8080/"
        },
        "id": "LKvy3rvMi4Nu",
        "outputId": "66318b9a-a84b-4326-a725-c7e6c6dcc01b"
      },
      "execution_count": null,
      "outputs": [
        {
          "output_type": "stream",
          "name": "stdout",
          "text": [
            "Drive already mounted at /content/drive; to attempt to forcibly remount, call drive.mount(\"/content/drive\", force_remount=True).\n",
            "Creating RawArray with float64 data, n_channels=59, n_times=507025\n",
            "    Range : 0 ... 507024 =      0.000 ...   422.520 secs\n",
            "Ready.\n"
          ]
        }
      ]
    },
    {
      "cell_type": "code",
      "source": [
        "# ====================================================================================================================\n",
        "# REREFERENCING by COMMON AVERAGE\n",
        "# ====================================================================================================================\n",
        "referenced_raw, _ = mne.set_eeg_reference(raw, ref_channels=\"average\", copy=True, ch_type=\"ecog\")\n",
        "# referenced_raw.plot(events=events, event_id=event_id)\n",
        "# referenced_raw.plot_psd()"
      ],
      "metadata": {
        "colab": {
          "base_uri": "https://localhost:8080/"
        },
        "id": "JSZ-dqnqi9tk",
        "outputId": "b5d8b7cc-a44b-4c9e-f5d4-f8a7b5d03286"
      },
      "execution_count": null,
      "outputs": [
        {
          "output_type": "stream",
          "name": "stdout",
          "text": [
            "Applying average reference.\n",
            "Applying a custom ('ECoG',) reference.\n"
          ]
        }
      ]
    },
    {
      "cell_type": "code",
      "source": [
        "# ====================================================================================================================\n",
        "# NOTCH FILTER\n",
        "# ====================================================================================================================\n",
        "# Remove power line artifact (visible from psd visualization)\n",
        "iir_params = dict(order=6, ftype='butter', output='sos')\n",
        "raw_notch0 = referenced_raw.copy().notch_filter(freqs=50, method='iir', iir_params=iir_params)\n",
        "raw_notch1 = raw_notch0.copy().notch_filter(freqs=100, method='iir', iir_params=iir_params)\n",
        "raw_notch2 = raw_notch1.copy().notch_filter(freqs=150, method='iir', iir_params=iir_params)\n",
        "raw_notch3 = raw_notch2.copy().notch_filter(freqs=200, method='iir', iir_params=iir_params)\n",
        "raw_notch4 = raw_notch3.copy().notch_filter(freqs=250, method='iir', iir_params=iir_params)\n",
        "raw_notch = raw_notch4.copy().notch_filter(freqs=300, method='iir', iir_params=iir_params)\n",
        "\n",
        "# Plot PSD\n",
        "# raw_notch.plot(events=events, event_id=event_id)\n",
        "# raw_notch.plot_psd()"
      ],
      "metadata": {
        "colab": {
          "base_uri": "https://localhost:8080/"
        },
        "id": "99DX5VXkjDFe",
        "outputId": "e47ce609-d219-4df6-9700-1cc117177dac"
      },
      "execution_count": null,
      "outputs": [
        {
          "output_type": "stream",
          "name": "stdout",
          "text": [
            "Setting up band-stop filter from 49 - 51 Hz\n",
            "\n",
            "IIR filter parameters\n",
            "---------------------\n",
            "Butterworth bandstop zero-phase (two-pass forward and reverse) non-causal filter:\n",
            "- Filter order 24 (effective, after forward-backward)\n",
            "- Cutoffs at 49.38, 50.62 Hz: -6.02, -6.02 dB\n",
            "\n",
            "Setting up band-stop filter from 99 - 1e+02 Hz\n",
            "\n",
            "IIR filter parameters\n",
            "---------------------\n",
            "Butterworth bandstop zero-phase (two-pass forward and reverse) non-causal filter:\n",
            "- Filter order 24 (effective, after forward-backward)\n",
            "- Cutoffs at 99.25, 100.75 Hz: -6.02, -6.02 dB\n",
            "\n",
            "Setting up band-stop filter from 1.5e+02 - 1.5e+02 Hz\n",
            "\n",
            "IIR filter parameters\n",
            "---------------------\n",
            "Butterworth bandstop zero-phase (two-pass forward and reverse) non-causal filter:\n",
            "- Filter order 24 (effective, after forward-backward)\n",
            "- Cutoffs at 149.12, 150.88 Hz: -6.02, -6.02 dB\n",
            "\n",
            "Setting up band-stop filter from 2e+02 - 2e+02 Hz\n",
            "\n",
            "IIR filter parameters\n",
            "---------------------\n",
            "Butterworth bandstop zero-phase (two-pass forward and reverse) non-causal filter:\n",
            "- Filter order 24 (effective, after forward-backward)\n",
            "- Cutoffs at 199.00, 201.00 Hz: -6.02, -6.02 dB\n",
            "\n",
            "Setting up band-stop filter from 2.5e+02 - 2.5e+02 Hz\n",
            "\n",
            "IIR filter parameters\n",
            "---------------------\n",
            "Butterworth bandstop zero-phase (two-pass forward and reverse) non-causal filter:\n",
            "- Filter order 24 (effective, after forward-backward)\n",
            "- Cutoffs at 248.88, 251.12 Hz: -6.02, -6.02 dB\n",
            "\n",
            "Setting up band-stop filter from 3e+02 - 3e+02 Hz\n",
            "\n",
            "IIR filter parameters\n",
            "---------------------\n",
            "Butterworth bandstop zero-phase (two-pass forward and reverse) non-causal filter:\n",
            "- Filter order 24 (effective, after forward-backward)\n",
            "- Cutoffs at 298.75, 301.25 Hz: -6.02, -6.02 dB\n",
            "\n"
          ]
        }
      ]
    },
    {
      "cell_type": "code",
      "source": [
        "# ====================================================================================================================\n",
        "# BAND-PASS FILTER\n",
        "# ====================================================================================================================\n",
        "# Inspect data\n",
        "# raw.plot()\n",
        "# filt_low, filt_high = 6, 14\n",
        "filt_low, filt_high = 50, 300\n",
        "# Apply band_pass filter\n",
        "iir_params = dict(order=6, ftype='butter', output='sos')\n",
        "raw_bandpass = raw_notch.copy().filter(l_freq=filt_low, h_freq=filt_high, method=\"iir\")\n",
        "# raw_bandpass.plot()\n",
        "# raw_bandpass.plot_psd(spatial_colors=True)"
      ],
      "metadata": {
        "colab": {
          "base_uri": "https://localhost:8080/"
        },
        "id": "KYlVPNr9jFIa",
        "outputId": "5b111a73-ee12-4735-a283-e5fbd94ce386"
      },
      "execution_count": null,
      "outputs": [
        {
          "output_type": "stream",
          "name": "stdout",
          "text": [
            "Filtering raw data in 1 contiguous segment\n",
            "Setting up band-pass filter from 50 - 3e+02 Hz\n",
            "\n",
            "IIR filter parameters\n",
            "---------------------\n",
            "Butterworth bandpass zero-phase (two-pass forward and reverse) non-causal filter:\n",
            "- Filter order 16 (effective, after forward-backward)\n",
            "- Cutoffs at 50.00, 300.00 Hz: -6.02, -6.02 dB\n",
            "\n"
          ]
        }
      ]
    },
    {
      "cell_type": "code",
      "source": [
        "# ====================================================================================================================\n",
        "# EPOCH\n",
        "# ====================================================================================================================\n",
        "# Epoch starts 0.3 seconds before events and end 0.5 second after the events\n",
        "t_min = 0\n",
        "t_max = .7\n",
        "\n",
        "# Create the Epoch\n",
        "epochs = mne.Epochs(raw_bandpass,\n",
        "                    events=events,\n",
        "                    event_id=event_id,\n",
        "                    tmin=t_min,\n",
        "                    tmax=t_max,\n",
        "                    baseline=None,\n",
        "                    preload=True)\n",
        "\n",
        "# Plot\n",
        "# epochs.plot(events=events)"
      ],
      "metadata": {
        "colab": {
          "base_uri": "https://localhost:8080/"
        },
        "id": "b9FAAnFNjHna",
        "outputId": "db7b79b9-3332-437e-b6ca-e0ed2317d764"
      },
      "execution_count": null,
      "outputs": [
        {
          "output_type": "stream",
          "name": "stdout",
          "text": [
            "Not setting metadata\n",
            "90 matching events found\n",
            "No baseline correction applied\n",
            "0 projection items activated\n",
            "Using data from preloaded Raw for 90 events and 841 original time points ...\n",
            "0 bad epochs dropped\n"
          ]
        }
      ]
    },
    {
      "cell_type": "code",
      "source": [
        "# ====================================================================================================================\n",
        "# CREATION DATASET\n",
        "# ====================================================================================================================\n",
        "# Create the X and y dataset\n",
        "X = epochs.get_data()\n",
        "y = epochs.events[:, -1]\n",
        "\n",
        "#np.save('drive/My Drive/BR4IN.IO/X.npy',X)\n",
        "#np.save('drive/My Drive/BR4IN.IO/y.npy',y)"
      ],
      "metadata": {
        "id": "g-8IQS_IjKfy"
      },
      "execution_count": null,
      "outputs": []
    },
    {
      "cell_type": "code",
      "source": [
        "# ====================================================================================================================\n",
        "# SPECTRAL WHITENING\n",
        "# ====================================================================================================================\n",
        "from scipy import signal\n",
        "from mne.time_frequency import fit_iir_model_raw\n",
        "order = 10  # define model order\n",
        "\n",
        "# Estimate AR models on raw data\n",
        "b, a = fit_iir_model_raw(raw_bandpass, order=order)\n",
        "\n",
        "for i in np.arange(X.shape[0]):\n",
        "    for j in np.arange(X.shape[1]):\n",
        "        d = X[i][j, :]  # look at one channel from now on\n",
        "        d = d.ravel()  # make flat vector\n",
        "        innovation = signal.convolve(d, a, 'valid')\n",
        "        d_ = signal.lfilter(b, a, innovation)  # regenerate the signal\n",
        "        d_ = np.r_[d_[0] * np.ones(order), d_]  # dummy samples to keep signal length\n",
        "        X[i][j, :] = d_"
      ],
      "metadata": {
        "id": "x9RJjvhBjRI4"
      },
      "execution_count": null,
      "outputs": []
    },
    {
      "cell_type": "code",
      "source": [
        "def delete_some_class (X, Y, labels_to_drop):    \n",
        "    for i in range(len(labels_to_drop)):\n",
        "        curr_label = labels_to_drop[i];\n",
        "        X.drop(Y.loc[Y['label']==curr_label].index, inplace=True)\n",
        "        Y.drop(Y.loc[Y['label']==curr_label].index, inplace=True)\n",
        "        \n",
        "    X = X.reset_index(drop=True)\n",
        "    Y = Y.reset_index(drop=True)\n",
        "\n",
        "    return X, Y"
      ],
      "metadata": {
        "id": "MMwGX4H9jihk"
      },
      "execution_count": null,
      "outputs": []
    },
    {
      "cell_type": "code",
      "source": [
        "# ====================================================================================================================\n",
        "## Classification MDM\n",
        "# ====================================================================================================================\n",
        "from pyriemann.classification import MDM\n",
        "from pyriemann.estimation import Covariances\n",
        "from sklearn.model_selection import cross_val_score\n",
        "from sklearn.model_selection import KFold\n",
        "from sklearn.pipeline import Pipeline\n",
        "\n",
        "cv = KFold(n_splits=10, shuffle=True, random_state=42)\n",
        "\n",
        "# Classifier to test\n",
        "clf = Pipeline(steps=[\n",
        "                    (\"Covariances\", Covariances(\"lwf\")),\n",
        "                    (\"MDM\", MDM(metric=dict(mean='riemann', distance='riemann')))\n",
        "])\n",
        "\n",
        "# Use scikit-learn Pipeline with cross_val_score function\n",
        "scores = cross_val_score(clf, X, y, cv=cv, n_jobs=1, scoring=\"accuracy\")\n",
        "\n",
        "print(\"Classification accuracy: %.3f +/- %.3f\" %(np.mean(scores), np.std(scores)))"
      ],
      "metadata": {
        "colab": {
          "base_uri": "https://localhost:8080/"
        },
        "id": "DsUFJdbrZOps",
        "outputId": "6d351c08-84e9-4190-ae70-1f71494faec9"
      },
      "execution_count": null,
      "outputs": [
        {
          "output_type": "stream",
          "name": "stdout",
          "text": [
            "Classification accuracy: 0.744 +/- 0.100\n"
          ]
        }
      ]
    },
    {
      "cell_type": "code",
      "source": [
        "X_arr = np.array(X)\n",
        "y_arr = np.array(y)"
      ],
      "metadata": {
        "id": "E4WtEmLqZtYN"
      },
      "execution_count": null,
      "outputs": []
    },
    {
      "cell_type": "code",
      "source": [
        "# ====================================================================================================================\n",
        "# Print Results\n",
        "# ====================================================================================================================\n",
        "import time\n",
        "from sklearn.metrics import accuracy_score, classification_report\n",
        "from sklearn.metrics import confusion_matrix, ConfusionMatrixDisplay, jaccard_score, hamming_loss\n",
        "\n",
        "# Define Variable to save the Results\n",
        "pred_train = np.zeros(len(y_arr))\n",
        "pred_test = np.zeros(len(y_arr))\n",
        "\n",
        "# Compute Starting Time\n",
        "time_start = time.perf_counter()\n",
        "\n",
        "for train_index, test_index in cv.split(X):\n",
        "    #print(train_index.dtype)\n",
        "    #print(test_index.dtype)\n",
        "    train_index = train_index.astype(np.int32)\n",
        "    test_index = test_index.astype(np.int32)\n",
        "    X_train, X_test = X_arr[train_index], X_arr[test_index]\n",
        "    y_train, y_test = y_arr[train_index], y_arr[test_index]\n",
        "\n",
        "    y_train = y_train.ravel()\n",
        "    y_test = y_test.ravel()\n",
        "    \n",
        "    # Fit the Model on the Training Dataset\n",
        "    clf.fit(X_train, y_train)\n",
        "\n",
        "    # Compute Y_pred using the MDM classifier on the Train Dataset\n",
        "    pred_train[train_index] = clf.predict(X_train)\n",
        "\n",
        "    # Compute Y_pred using the MDM classifier on the Test Dataset\n",
        "    pred_test[test_index] = clf.predict(X_test)\n",
        "\n",
        "# Compute Final Time of the Algorithm\n",
        "time_elapsed = (time.perf_counter() - time_start)\n",
        "\n",
        "# ===================================================================================================================\n",
        "# Train Performances\n",
        "# ===================================================================================================================\n",
        "print(classification_report(y, pred_train))\n",
        "print(\"Accuracy score (Train): {:e}\".format(accuracy_score(y, pred_train)))\n",
        "\n",
        "# Train Confusion Matrix\n",
        "cm = confusion_matrix(y, pred_train, normalize='true')\n",
        "ConfusionMatrixDisplay(cm, display_labels=['Fist', 'Peace', 'Open']).plot()\n",
        "\n",
        "# ===================================================================================================================\n",
        "# Test Performances\n",
        "# ===================================================================================================================\n",
        "print(classification_report(y, pred_test))\n",
        "print(\"Accuracy score (Test): {:e}\".format(accuracy_score(y, pred_test)))\n",
        "print(\"Classification accuracy: %.3f +/- %.3f\" %(np.mean(scores), np.std(scores)))\n",
        "\n",
        "# Train Confusion Matrix\n",
        "cm = confusion_matrix(y, pred_test, normalize='true')\n",
        "ConfusionMatrixDisplay(cm, display_labels=['Fist', 'Peace', 'Open']).plot()"
      ],
      "metadata": {
        "id": "VgvjL02QZz6C",
        "outputId": "3ec5d08f-e6ed-484a-a05e-ff52b3f76447",
        "colab": {
          "base_uri": "https://localhost:8080/",
          "height": 962
        }
      },
      "execution_count": null,
      "outputs": [
        {
          "output_type": "stream",
          "name": "stdout",
          "text": [
            "              precision    recall  f1-score   support\n",
            "\n",
            "           1       0.97      1.00      0.98        30\n",
            "           2       1.00      0.97      0.98        30\n",
            "           3       0.97      0.97      0.97        30\n",
            "\n",
            "    accuracy                           0.98        90\n",
            "   macro avg       0.98      0.98      0.98        90\n",
            "weighted avg       0.98      0.98      0.98        90\n",
            "\n",
            "Accuracy score (Train): 9.777778e-01\n",
            "              precision    recall  f1-score   support\n",
            "\n",
            "           1       0.65      0.57      0.61        30\n",
            "           2       0.62      0.70      0.66        30\n",
            "           3       0.97      0.97      0.97        30\n",
            "\n",
            "    accuracy                           0.74        90\n",
            "   macro avg       0.75      0.74      0.74        90\n",
            "weighted avg       0.75      0.74      0.74        90\n",
            "\n",
            "Accuracy score (Test): 7.444444e-01\n",
            "Classification accuracy: 0.744 +/- 0.100\n"
          ]
        },
        {
          "output_type": "execute_result",
          "data": {
            "text/plain": [
              "<sklearn.metrics._plot.confusion_matrix.ConfusionMatrixDisplay at 0x7f483c3a5410>"
            ]
          },
          "metadata": {},
          "execution_count": 39
        },
        {
          "output_type": "display_data",
          "data": {
            "text/plain": [
              "<Figure size 432x288 with 2 Axes>"
            ],
            "image/png": "[encoded data removed]"
          },
          "metadata": {
            "needs_background": "light"
          }
        },
        {
          "output_type": "display_data",
          "data": {
            "text/plain": [
              "<Figure size 432x288 with 2 Axes>"
            ],
            "image/png": "[encoded data removed]"
          },
          "metadata": {
            "needs_background": "light"
          }
        }
      ]
    },
    {
      "cell_type": "code",
      "source": [
        "# ====================================================================================================================\n",
        "## SLIDING WINDOW APPROACH\n",
        "# ====================================================================================================================\n",
        "import pandas as pd\n",
        "from sklearn.preprocessing import StandardScaler\n",
        "\n",
        "X = pd.read_csv('drive/My Drive/BR4IN.IO/X_prep_data.csv')\n",
        "y = pd.read_csv('drive/My Drive/BR4IN.IO/y_prep_data.csv')\n",
        "\n",
        "scaler = StandardScaler()\n",
        "\n",
        "X, y = delete_some_class(X.reset_index(drop=True), y.reset_index(drop=True), [0])\n",
        "\n",
        "X = pd.DataFrame(scaler.fit_transform(X))\n",
        "\n",
        "#y = y['label'].ravel()"
      ],
      "metadata": {
        "id": "HWu20oF-jTat"
      },
      "execution_count": null,
      "outputs": []
    },
    {
      "cell_type": "code",
      "source": [
        "# ====================================================================================================================\n",
        "## Classifier\n",
        "# ====================================================================================================================\n",
        "from sklearn.model_selection import cross_val_score\n",
        "from sklearn.model_selection import KFold\n",
        "from sklearn.pipeline import Pipeline\n",
        "from sklearn.svm import SVC\n",
        "\n",
        "cv = KFold(n_splits=4, shuffle=True, random_state=0)\n",
        "\n",
        "# Classifier to test\n",
        "clf = Pipeline(steps=[\n",
        "    (\"SVM\", SVC(C=10**2, gamma=10**-3, kernel='rbf'))\n",
        "])\n",
        "\n",
        "# Use scikit-learn Pipeline with cross_val_score function\n",
        "scores = cross_val_score(clf, X, y, cv=cv, n_jobs=1, scoring=\"accuracy\")\n",
        "\n",
        "print(\"Classification accuracy: %.3f +/- %.3f\" %(np.mean(scores), np.std(scores)))"
      ],
      "metadata": {
        "colab": {
          "base_uri": "https://localhost:8080/"
        },
        "id": "SmsY94kTjePL",
        "outputId": "ac8ed448-8dfd-471c-ede4-249a5cd70147"
      },
      "execution_count": null,
      "outputs": [
        {
          "output_type": "stream",
          "name": "stderr",
          "text": [
            "/usr/local/lib/python3.7/dist-packages/sklearn/utils/validation.py:993: DataConversionWarning: A column-vector y was passed when a 1d array was expected. Please change the shape of y to (n_samples, ), for example using ravel().\n",
            "  y = column_or_1d(y, warn=True)\n",
            "/usr/local/lib/python3.7/dist-packages/sklearn/utils/validation.py:993: DataConversionWarning: A column-vector y was passed when a 1d array was expected. Please change the shape of y to (n_samples, ), for example using ravel().\n",
            "  y = column_or_1d(y, warn=True)\n",
            "/usr/local/lib/python3.7/dist-packages/sklearn/utils/validation.py:993: DataConversionWarning: A column-vector y was passed when a 1d array was expected. Please change the shape of y to (n_samples, ), for example using ravel().\n",
            "  y = column_or_1d(y, warn=True)\n"
          ]
        },
        {
          "output_type": "stream",
          "name": "stdout",
          "text": [
            "Classification accuracy: 0.997 +/- 0.002\n"
          ]
        },
        {
          "output_type": "stream",
          "name": "stderr",
          "text": [
            "/usr/local/lib/python3.7/dist-packages/sklearn/utils/validation.py:993: DataConversionWarning: A column-vector y was passed when a 1d array was expected. Please change the shape of y to (n_samples, ), for example using ravel().\n",
            "  y = column_or_1d(y, warn=True)\n"
          ]
        }
      ]
    },
    {
      "cell_type": "code",
      "source": [
        "X_arr = np.array(X)\n",
        "y_arr = np.array(y)"
      ],
      "metadata": {
        "id": "PgeF2q7Zj5VT"
      },
      "execution_count": null,
      "outputs": []
    },
    {
      "cell_type": "code",
      "source": [],
      "metadata": {
        "id": "P2QFGqEgj_wt"
      },
      "execution_count": null,
      "outputs": []
    },
    {
      "cell_type": "code",
      "source": [
        "# ====================================================================================================================\n",
        "# Print Results\n",
        "# ====================================================================================================================\n",
        "import time\n",
        "from sklearn.metrics import accuracy_score, classification_report\n",
        "from sklearn.metrics import confusion_matrix, ConfusionMatrixDisplay, jaccard_score, hamming_loss\n",
        "\n",
        "# Define Variable to save the Results\n",
        "pred_train = np.zeros(len(y_arr))\n",
        "pred_test = np.zeros(len(y_arr))\n",
        "\n",
        "# Compute Starting Time\n",
        "time_start = time.perf_counter()\n",
        "\n",
        "for train_index, test_index in cv.split(X):\n",
        "    #print(train_index.dtype)\n",
        "    #print(test_index.dtype)\n",
        "    train_index = train_index.astype(np.int32)\n",
        "    test_index = test_index.astype(np.int32)\n",
        "    X_train, X_test = X_arr[train_index], X_arr[test_index]\n",
        "    y_train, y_test = y_arr[train_index], y_arr[test_index]\n",
        "\n",
        "    y_train = y_train.ravel()\n",
        "    y_test = y_test.ravel()\n",
        "    \n",
        "    # Fit the Model on the Training Dataset\n",
        "    clf.fit(X_train, y_train)\n",
        "\n",
        "    # Compute Y_pred using the MDM classifier on the Train Dataset\n",
        "    pred_train[train_index] = clf.predict(X_train)\n",
        "\n",
        "    # Compute Y_pred using the MDM classifier on the Test Dataset\n",
        "    pred_test[test_index] = clf.predict(X_test)\n",
        "\n",
        "# Compute Final Time of the Algorithm\n",
        "time_elapsed = (time.perf_counter() - time_start)\n",
        "\n",
        "# ===================================================================================================================\n",
        "# Train Performances\n",
        "# ===================================================================================================================\n",
        "print(classification_report(y, pred_train))\n",
        "print(\"Accuracy score (Train): {:e}\".format(accuracy_score(y, pred_train)))\n",
        "\n",
        "# Train Confusion Matrix\n",
        "cm = confusion_matrix(y, pred_train, normalize='true')\n",
        "ConfusionMatrixDisplay(cm, display_labels=['Fist', 'Peace', 'Open']).plot()\n",
        "\n",
        "# ===================================================================================================================\n",
        "# Test Performances\n",
        "# ===================================================================================================================\n",
        "print(classification_report(y, pred_test))\n",
        "print(\"Accuracy score (Test): {:e}\".format(accuracy_score(y, pred_test)))\n",
        "print(\"Classification accuracy: %.3f +/- %.3f\" %(np.mean(scores), np.std(scores)))\n",
        "\n",
        "# Train Confusion Matrix\n",
        "cm = confusion_matrix(y, pred_test, normalize='true')\n",
        "ConfusionMatrixDisplay(cm, display_labels=['Fist', 'Peace', 'Open']).plot()"
      ],
      "metadata": {
        "colab": {
          "base_uri": "https://localhost:8080/",
          "height": 966
        },
        "id": "kQDTjcgOOSEz",
        "outputId": "a3ad797e-a48a-4d03-87a4-61c0dc33ee67"
      },
      "execution_count": null,
      "outputs": [
        {
          "output_type": "stream",
          "name": "stdout",
          "text": [
            "              precision    recall  f1-score   support\n",
            "\n",
            "         1.0       1.00      1.00      1.00       311\n",
            "         2.0       1.00      1.00      1.00       315\n",
            "         3.0       1.00      1.00      1.00       312\n",
            "\n",
            "    accuracy                           1.00       938\n",
            "   macro avg       1.00      1.00      1.00       938\n",
            "weighted avg       1.00      1.00      1.00       938\n",
            "\n",
            "Accuracy score (Train): 1.000000e+00\n",
            "              precision    recall  f1-score   support\n",
            "\n",
            "         1.0       1.00      1.00      1.00       311\n",
            "         2.0       1.00      0.99      1.00       315\n",
            "         3.0       0.99      1.00      1.00       312\n",
            "\n",
            "    accuracy                           1.00       938\n",
            "   macro avg       1.00      1.00      1.00       938\n",
            "weighted avg       1.00      1.00      1.00       938\n",
            "\n",
            "Accuracy score (Test): 9.968017e-01\n",
            "Classification accuracy: 0.997 +/- 0.002\n"
          ]
        },
        {
          "output_type": "execute_result",
          "data": {
            "text/plain": [
              "<sklearn.metrics._plot.confusion_matrix.ConfusionMatrixDisplay at 0x7f483cb34f10>"
            ]
          },
          "metadata": {},
          "execution_count": 16
        },
        {
          "output_type": "display_data",
          "data": {
            "text/plain": [
              "<Figure size 432x288 with 2 Axes>"
            ],
            "image/png": "[encoded data removed]"
          },
          "metadata": {
            "needs_background": "light"
          }
        },
        {
          "output_type": "display_data",
          "data": {
            "text/plain": [
              "<Figure size 432x288 with 2 Axes>"
            ],
            "image/png": "[encoded data removed]"
          },
          "metadata": {
            "needs_background": "light"
          }
        }
      ]
    },
    {
      "cell_type": "code",
      "source": [],
      "metadata": {
        "id": "bSifF_VuUD0E"
      },
      "execution_count": null,
      "outputs": []
    }
  ]
}